{
 "cells": [
  {
   "cell_type": "code",
   "execution_count": 1,
   "id": "5dc5b194-4fac-427a-b31b-01477d177a0b",
   "metadata": {},
   "outputs": [
    {
     "name": "stdout",
     "output_type": "stream",
     "text": [
      "Olá! Sou o Mirobaldo, um chatbot do Farense. Para já sei contar histórias até 1950.\n",
      "Ainda tenho muito que aprender sobre a maravilhosa história deste clube!\n",
      "O que gostarias de saber?\n"
     ]
    },
    {
     "name": "stdin",
     "output_type": "stream",
     "text": [
      "\n",
      "Você:  conta-me uma história\n"
     ]
    },
    {
     "ename": "NameError",
     "evalue": "name 'Markdown' is not defined",
     "output_type": "error",
     "traceback": [
      "\u001b[0;31m---------------------------------------------------------------------------\u001b[0m",
      "\u001b[0;31mNameError\u001b[0m                                 Traceback (most recent call last)",
      "Cell \u001b[0;32mIn[1], line 49\u001b[0m\n\u001b[1;32m     47\u001b[0m \u001b[38;5;66;03m# Executar o chatbot\u001b[39;00m\n\u001b[1;32m     48\u001b[0m \u001b[38;5;28;01mif\u001b[39;00m \u001b[38;5;18m__name__\u001b[39m \u001b[38;5;241m==\u001b[39m \u001b[38;5;124m\"\u001b[39m\u001b[38;5;124m__main__\u001b[39m\u001b[38;5;124m\"\u001b[39m:\n\u001b[0;32m---> 49\u001b[0m     mirobaldo_chatbot()\n",
      "Cell \u001b[0;32mIn[1], line 45\u001b[0m, in \u001b[0;36mmirobaldo_chatbot\u001b[0;34m()\u001b[0m\n\u001b[1;32m     43\u001b[0m \u001b[38;5;66;03m# Obter a resposta com o contexto do livro\u001b[39;00m\n\u001b[1;32m     44\u001b[0m answer \u001b[38;5;241m=\u001b[39m get_gpt4_turbo_response(question, book_content)\n\u001b[0;32m---> 45\u001b[0m display(Markdown(\u001b[38;5;124mf\u001b[39m\u001b[38;5;124m\"\u001b[39m\u001b[38;5;124m**Mirobaldo:** \u001b[39m\u001b[38;5;132;01m{\u001b[39;00manswer\u001b[38;5;132;01m}\u001b[39;00m\u001b[38;5;124m\"\u001b[39m))\n",
      "\u001b[0;31mNameError\u001b[0m: name 'Markdown' is not defined"
     ]
    }
   ],
   "source": [
    "import openai\n",
    "import os\n",
    "from dotenv import load_dotenv\n",
    "\n",
    "# Carregar variáveis de ambiente do arquivo .env\n",
    "load_dotenv()\n",
    "\n",
    "# Obter a chave da API da OpenAI\n",
    "openai.api_key = os.getenv('OPENAI_API_KEY')\n",
    "\n",
    "# Função para ler o conteúdo do livro\n",
    "def read_book(file_path):\n",
    "    with open(file_path, 'r', encoding='utf-8') as file:\n",
    "        return file.read()\n",
    "\n",
    "# Função para obter resposta do GPT-4 Turbo\n",
    "def get_gpt4_turbo_response(prompt, context):\n",
    "    try:\n",
    "        response = openai.chat.completions.create(\n",
    "            model=\"gpt-4-turbo\",\n",
    "            messages=[\n",
    "                {\"role\": \"system\", \"content\": \"Você é um historiador do Sporting Clube Farense.\"},\n",
    "                {\"role\": \"user\", \"content\": context + \"\\n\\nPergunta: \" + prompt}\n",
    "            ]\n",
    "        )\n",
    "        return response.choices[0].message.content\n",
    "    except Exception as e:\n",
    "        return f\"Ocorreu um erro: {e}\"\n",
    "\n",
    "def mirobaldo_chatbot():\n",
    "    # Carregar o conteúdo do livro\n",
    "    book_content = read_book('50_anos.txt')\n",
    "    \n",
    "    print(\"Olá! Sou o Mirobaldo, um chatbot do Farense. Para já sei contar histórias até 1950.\")\n",
    "    print(\"Ainda tenho muito que aprender sobre a maravilhosa história deste clube!\")\n",
    "    print(\"O que gostarias de saber?\")\n",
    "    while True:\n",
    "        question = input(\"\\nVocê: \")\n",
    "        if question.lower() in [\"sair\", \"exit\", \"quit\"]:\n",
    "            print(\"Força Farense!\")\n",
    "            break\n",
    " \n",
    "        # Obter a resposta com o contexto do livro\n",
    "        answer = get_gpt4_turbo_response(question, book_content)\n",
    "        display(Markdown(f\"**Mirobaldo:** {answer}\"))\n",
    "\n",
    "# Executar o chatbot\n",
    "if __name__ == \"__main__\":\n",
    "    mirobaldo_chatbot()"
   ]
  }
 ],
 "metadata": {
  "kernelspec": {
   "display_name": "Python 3 (ipykernel)",
   "language": "python",
   "name": "python3"
  },
  "language_info": {
   "codemirror_mode": {
    "name": "ipython",
    "version": 3
   },
   "file_extension": ".py",
   "mimetype": "text/x-python",
   "name": "python",
   "nbconvert_exporter": "python",
   "pygments_lexer": "ipython3",
   "version": "3.12.2"
  }
 },
 "nbformat": 4,
 "nbformat_minor": 5
}
