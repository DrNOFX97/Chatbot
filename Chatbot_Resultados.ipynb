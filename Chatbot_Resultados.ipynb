{
 "cells": [
  {
   "cell_type": "code",
   "execution_count": null,
   "id": "5dc5b194-4fac-427a-b31b-01477d177a0b",
   "metadata": {},
   "outputs": [
    {
     "data": {
      "text/markdown": [
       "\n",
       "## Olá! Sou o **Mirobaldo**, um *chatbot* do SC Farense. Para já sei contar histórias até 1950.  \n",
       "### Ainda tenho muito que aprender sobre a maravilhosa história deste clube!  \n",
       "### O que gostarias de saber?\n",
       "    "
      ],
      "text/plain": [
       "<IPython.core.display.Markdown object>"
      ]
     },
     "metadata": {},
     "output_type": "display_data"
    },
    {
     "name": "stdin",
     "output_type": "stream",
     "text": [
      "\n",
      "Você:  sabes os resultados do farense em 1950\n"
     ]
    },
    {
     "data": {
      "text/markdown": [
       "\n",
       "**Mirobaldo:**\n",
       "\n",
       "| Competição                        | Data       | Hora   | Local             | Adversário   | Resultado   | Tipo   |\n",
       "|:----------------------------------|:-----------|:-------|:------------------|:-------------|:------------|:-------|\n",
       "| II Divisão II Fase Zona D 1949/50 | 1950-03-12 | Casa   | Grupo União Sport | 0-6          | D           | J1     |\n",
       "| II Divisão II Fase Zona D 1949/50 | 1950-03-05 | Casa   | Portimonense      | 1-3          | D           | J1     |\n",
       "| II Divisão II Fase Zona D 1949/50 | 1950-02-26 | Fora   | GD Portalegrense  | 3-2          | D           | J1     |\n",
       "| II Divisão II Fase Zona D 1949/50 | 1950-02-19 | Fora   | Grupo União Sport | 2-1          | D           | J1     |\n",
       "| II Divisão II Fase Zona D 1949/50 | 1950-02-12 | Fora   | Portimonense      | 2-1          | D           | J1     |\n",
       "| II Divisão II Fase Zona D 1949/50 | 1950-02-05 | Casa   | GD Portalegrense  | 2-6          | D           | J1     |\n",
       "\n",
       "| Competição                        | Data       | Hora   | Local                      | Adversário   | Resultado   | Tipo   |\n",
       "|:----------------------------------|:-----------|:-------|:---------------------------|:-------------|:------------|:-------|\n",
       "| II Divisão Zona D Série 8 1949/50 | 1950-01-15 | Fora   | Aljustrelense              | 1-6          | V           | J1     |\n",
       "| II Divisão Zona D Série 8 1949/50 | 1950-01-08 | Fora   | Silves                     | 1-2          | V           | J1     |\n",
       "| II Divisão Zona D Série 8 1949/50 | 1950-01-01 | Fora   | Portimonense               | 0-1          | V           | J1     |\n",
       "| II Divisão Zona D Série 8 1949/50 | 1949-12-18 | Fora   | Moura                      | 1-2          | V           | J1     |\n",
       "| II Divisão Zona D Série 8 1949/50 | 1949-12-11 | Fora   | Desp. Beja                 | 1-2          | V           | J1     |\n",
       "| II Divisão Zona D Série 8 1949/50 | 1949-12-04 | Fora   | Faro e Benfica             | 0-10         | V           | J1     |\n",
       "| II Divisão Zona D Série 8 1949/50 | 1949-11-27 | Casa   | Boa Esperança Portimonense | 2-2          | E           | J1     |\n",
       "| II Divisão Zona D Série 8 1949/50 | 1949-11-20 | Casa   | Aljustrelense              | 1-4          | D           | J1     |\n",
       "| II Divisão Zona D Série 8 1949/50 | 1949-11-13 | Casa   | Silves                     | 3-1          | V           | J1     |\n",
       "| II Divisão Zona D Série 8 1949/50 | 1949-11-06 | Casa   | Portimonense               | 1-4          | D           | J1     |\n",
       "| II Divisão Zona D Série 8 1949/50 | 1949-10-30 | Casa   | Moura                      | 4-1          | V           | J1     |\n",
       "| II Divisão Zona D Série 8 1949/50 | 1949-10-23 | Casa   | Desp. Beja                 | 0-2          | D           | J1     |\n",
       "| II Divisão Zona D Série 8 1949/50 | 1949-10-16 | Casa   | Faro e Benfica             | 6-0          | V           | J1     |\n",
       "| II Divisão Zona D Série 8 1949/50 | 1949-10-09 | Fora   | Boa Esperança Portimonense | 2-4          | V           | J1     |\n",
       "\n",
       "| Competição                | Data       | Hora   | Local             | Adversário        | Resultado   | Tipo   | Jogo   |\n",
       "|:--------------------------|:-----------|:-------|:------------------|:------------------|:------------|:-------|:-------|\n",
       "| II Divisão Zona D 1950/51 | 1951-03-18 | 15:00  | Casa              | Lusit. Évora      | 1-5         | D      | J1     |\n",
       "| II Divisão Zona D 1950/51 | 1951-01-28 | 15:00  | Fora              | O Elvas           | 3-0         | D      | J1     |\n",
       "| II Divisão Zona D 1950/51 | 1951-01-14 | 15:00  | Fora              | Lusit. Évora      | 7-2         | D      | J1     |\n",
       "| II Divisão Zona D 1950/51 | 1950-12-30 | 15:00  | Casa              | Grupo União Sport | 1-1         | E      | J1     |\n",
       "| II Divisão Zona D 1950/51 | 1950-11-19 | 15:00  | Casa              | O Elvas           | 4-2         | V      | J1     |\n",
       "| II Divisão Zona D 1950/51 | 1950-09-01 | Fora   | Campomaiorense    | 3-0               | D           | J1     |        |\n",
       "| II Divisão Zona D 1950/51 | 1950-09-01 | Fora   | Desp. Beja        | 2-1               | D           | J1     |        |\n",
       "| II Divisão Zona D 1950/51 | 1950-09-01 | Fora   | Portimonense      | 5-0               | D           | J1     |        |\n",
       "| II Divisão Zona D 1950/51 | 1950-09-01 | Fora   | Grupo União Sport | 2-1               | D           | J1     |        |\n",
       "| II Divisão Zona D 1950/51 | 1950-09-01 | Fora   | Aljustrelense     | 3-2               | D           | J1     |        |\n",
       "| II Divisão Zona D 1950/51 | 1950-09-01 | Casa   | Campomaiorense    | 3-0               | V           | J1     |        |\n",
       "| II Divisão Zona D 1950/51 | 1950-09-01 | Casa   | Aljustrelense     | 3-0               | V           | J1     |        |\n",
       "| II Divisão Zona D 1950/51 | 1950-09-01 | Casa   | Desp. Beja        | 4-1               | V           | J1     |        |\n",
       "| II Divisão Zona D 1950/51 | 1950-09-01 | Casa   | Portimonense      | 2-0               | V           | J1     |        |\n",
       "| II Divisão Zona D 1950/51 | 1950-09-01 | Casa   | Lusitano VRSA     | 0-3               | D           | J1     |        |\n",
       "| II Divisão Zona D 1950/51 | 1950-09-01 | Fora   | Lusitano VRSA     | 0-3               | V           | J1     |        |"
      ],
      "text/plain": [
       "<IPython.core.display.Markdown object>"
      ]
     },
     "metadata": {},
     "output_type": "display_data"
    },
    {
     "name": "stdin",
     "output_type": "stream",
     "text": [
      "\n",
      "Você:  sabes os resultados do farense em 1939/40\n"
     ]
    },
    {
     "data": {
      "text/markdown": [
       "\n",
       "**Mirobaldo:**\n",
       "\n",
       "| Competição                 | Data       | Hora   | Local   | Adversário   | Resultado   | Tipo   | Jogo   |\n",
       "|:---------------------------|:-----------|:-------|:--------|:-------------|:------------|:-------|:-------|\n",
       "| Taça de Portugal 1938/1939 | 1939-05-21 | 00:00  | Casa    | Sporting     | 1-2         | D      | 1/8    |\n",
       "| Taça de Portugal 1938/1939 | 1939-05-14 | 00:00  | Fora    | Sporting     | 7-0         | D      | 1/8    |\n",
       "\n",
       "| Competição                 | Data       | Hora   | Local   | Adversário   | Resultado   | Tipo   | Jogo   |\n",
       "|:---------------------------|:-----------|:-------|:--------|:-------------|:------------|:-------|:-------|\n",
       "| Taça de Portugal 1939/1940 | 1940-06-02 | 00:00  | Fora    | Sporting     | 9-0         | D      | 1/8    |\n",
       "| Taça de Portugal 1939/1940 | 1940-05-26 | 00:00  | Casa    | Sporting     | 0-6         | D      | 1/8    |\n",
       "\n",
       "| Competição                    | Data   | Hora   | Local       | Adversário   | Resultado   | Tipo   |\n",
       "|:------------------------------|:-------|:-------|:------------|:-------------|:------------|:-------|\n",
       "| II Divisão Fase Final 1939/40 | -      | Casa   | Boavista    | 3-2          | V           | F      |\n",
       "| II Divisão Fase Final 1939/40 | -      | Casa   | Casa Pia AC | 4-0          | V           | MF     |\n",
       "| II Divisão Fase Final 1939/40 | -      | Casa   | Luso Beja   | 4-0          | V           | QF     |\n",
       "\n",
       "| Competição                       | Data   | Hora   | Local         | Adversário   | Resultado   | Tipo   |\n",
       "|:---------------------------------|:-------|:-------|:--------------|:-------------|:------------|:-------|\n",
       "| II Divisão Série Algarve 1939/40 | -      | Fora   | SL Faro       | 0-3          | V           | J1     |\n",
       "| II Divisão Série Algarve 1939/40 | -      | Fora   | Lusitano VRSA | 0-0          | E           | J1     |\n",
       "| II Divisão Série Algarve 1939/40 | -      | Fora   | Olhanense     | 2-1          | D           | J1     |\n",
       "| II Divisão Série Algarve 1939/40 | -      | Casa   | Lusitano VRSA | 6-0          | V           | J1     |\n",
       "| II Divisão Série Algarve 1939/40 | -      | Casa   | SL Faro       | 3-1          | V           | J1     |\n",
       "| II Divisão Série Algarve 1939/40 | -      | Casa   | Olhanense     | 1-0          | V           | J1     |"
      ],
      "text/plain": [
       "<IPython.core.display.Markdown object>"
      ]
     },
     "metadata": {},
     "output_type": "display_data"
    }
   ],
   "source": [
    "import openai\n",
    "import os\n",
    "import re\n",
    "from dotenv import load_dotenv\n",
    "from IPython.display import display, Markdown\n",
    "\n",
    "# Carregar variáveis de ambiente do arquivo .env\n",
    "load_dotenv()\n",
    "\n",
    "# Obter a chave da API da OpenAI\n",
    "openai.api_key = os.getenv('OPENAI_API_KEY')\n",
    "\n",
    "# Função para ler o conteúdo do livro\n",
    "def read_book(file_path):\n",
    "    try:\n",
    "        with open(file_path, 'r', encoding='utf-8') as file:\n",
    "            return file.read()\n",
    "    except Exception as e:\n",
    "        print(f\"Erro ao ler o arquivo {file_path}: {e}\")\n",
    "        return \"\"\n",
    "\n",
    "# Função para ler o conteúdo do resultados\n",
    "def read_results(file_path):\n",
    "    try:\n",
    "        with open(file_path, 'r', encoding='utf-8') as file:\n",
    "            return file.read()\n",
    "    except Exception as e:\n",
    "        print(f\"Erro ao ler o arquivo {file_path}: {e}\")\n",
    "        return \"\"\n",
    "\n",
    "# Função para procurar uma resposta no texto\n",
    "def search_text(question, text):\n",
    "    # Use regex para buscar informações específicas, como ano e resultados\n",
    "    pattern = re.compile(rf\"\\b{re.escape(question)}\\b\", re.IGNORECASE)\n",
    "    matches = pattern.findall(text)\n",
    "    \n",
    "    if matches:\n",
    "        return \"\\n\".join(matches)  # Retorna todas as correspondências encontradas\n",
    "    else:\n",
    "        return None\n",
    "\n",
    "# Função para obter resposta do GPT-4 Turbo\n",
    "def get_gpt4_turbo_response(prompt, context):\n",
    "    try:\n",
    "        response = openai.chat.completions.create(\n",
    "            model=\"gpt-4-turbo\",\n",
    "            messages=[\n",
    "                {\"role\": \"system\", \"content\": \"Você é um historiador do Sporting Clube Farense.\"},\n",
    "                {\"role\": \"user\", \"content\": context + \"\\n\\nPergunta: \" + prompt}\n",
    "            ]\n",
    "        )\n",
    "        return response.choices[0].messagecontent']\n",
    "    except Exception as e:\n",
    "        return f\"Ocorreu um erro: {e}\"\n",
    "\n",
    "def mirobaldo_chatbot():\n",
    "    # Carregar o conteúdo dos livros\n",
    "    book_content = read_book('50_anos.txt')\n",
    "    results_content = read_results('resultados.txt')\n",
    "\n",
    "    # Mensagem de boas-vindas formatada em Markdown\n",
    "    message = \"\"\"\n",
    "Olá! Sou o **Mirobaldo**, um *chatbot* do SC Farense. Para já sei contar histórias até 1950.  \n",
    "Ainda tenho muito que aprender sobre a maravilhosa história deste clube!  \n",
    "O que gostarias de saber?\n",
    "    \"\"\"\n",
    "    \n",
    "    display(Markdown(message))  # Exibe a mensagem formatada em Markdown\n",
    "    \n",
    "    while True:\n",
    "        question = input(\"\\nVocê: \")\n",
    "        if question.lower() in [\"sair\", \"exit\", \"quit\"]:\n",
    "            print(\"Força Farense!\")\n",
    "            break\n",
    "        \n",
    "        # Procurar a resposta no resultados.txt\n",
    "        answer = search_text(question, results_content)\n",
    "        \n",
    "        # Se não encontrar a resposta no resultados.txt, usar o GPT-4 Turbo com o contexto do livro\n",
    "        if not answer:\n",
    "            answer = get_gpt4_turbo_response(question, book_content)\n",
    "        \n",
    "        # Se a resposta do GPT-4 Turbo também não for encontrada\n",
    "        if answer in [None, \"\", \"Desculpe, mas não tenho informação específica sobre os resultados dos jogos mencionados no documento.\"]:\n",
    "            answer = \"Não consegui encontrar a resposta para a sua pergunta. Pode tentar outra pergunta ou fornecer mais detalhes.\"\n",
    "\n",
    "        display(Markdown(f\"**Mirobaldo:** {answer}\"))\n",
    "\n",
    "# Executar o chatbot\n",
    "if __name__ == \"__main__\":\n",
    "    mirobaldo_chatbot()\n"
   ]
  }
 ],
 "metadata": {
  "kernelspec": {
   "display_name": "Python 3 (ipykernel)",
   "language": "python",
   "name": "python3"
  },
  "language_info": {
   "codemirror_mode": {
    "name": "ipython",
    "version": 3
   },
   "file_extension": ".py",
   "mimetype": "text/x-python",
   "name": "python",
   "nbconvert_exporter": "python",
   "pygments_lexer": "ipython3",
   "version": "3.12.2"
  }
 },
 "nbformat": 4,
 "nbformat_minor": 5
}
