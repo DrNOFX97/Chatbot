{
 "cells": [
  {
   "cell_type": "code",
   "execution_count": 1,
   "id": "5dc5b194-4fac-427a-b31b-01477d177a0b",
   "metadata": {},
   "outputs": [
    {
     "data": {
      "text/markdown": [
       "\n",
       "### Olá! Sou o **Mirobaldo**, um *chatbot* do **SC Farense**. Para já sei contar histórias até 1950.  \n",
       "Ainda tenho muito que aprender sobre a maravilhosa história deste clube!  \n",
       "O que gostarias de saber?\n",
       "    "
      ],
      "text/plain": [
       "<IPython.core.display.Markdown object>"
      ]
     },
     "metadata": {},
     "output_type": "display_data"
    },
    {
     "name": "stdin",
     "output_type": "stream",
     "text": [
      "\n",
      "Você:  Como foi fundado do Farense?\n"
     ]
    },
    {
     "data": {
      "text/markdown": [
       "**Mirobaldo:** O Sporting Clube Farense foi fundado na cidade de Faro em 1 de Abril de 1910 por um grupo de jovens entusiastas do futebol. A fundação do clube veio numa altura em que o interesse pelo futebol estava a crescer em Portugal, e particularmente no Algarve, havia uma necessidade de organizar praticantes e competições de forma mais formal. \n",
       "\n",
       "Os fundadores do Sporting Clube Farense eram, na sua maioria, estudantes e jovens trabalhadores locais que partilhavam uma paixão pelo desporto e desejavam criar um clube que pudesse representar a cidade de Faro em competições regionais e nacionais. Entre eles estavam figuras como João de Jesus Gralho, que se tornou o primeiro Capitão Geral do clube, função que englobava responsabilidades como a escolha dos jogadores, a organização dos treinos e a liderança da equipa em campo.\n",
       "\n",
       "Inicialmente, o Farense começou a jogar no Largo de São Francisco, que era na altura um dos poucos espaços disponíveis na cidade que permitia a prática de futebol. Com o tempo, o clube cresceu em termos de membros, adeptos e proeminência regional, participando em competições organizadas tanto a nível local como nacional.\n",
       "\n",
       "Através dos anos, o clube enfrentou altos e baixos, incluindo dificuldades financeiras e desafios administrativos, mas continuou a ser uma força importante no desporto algarvio, destacando-se tanto em futebol como em outras modalidades desportivas."
      ],
      "text/plain": [
       "<IPython.core.display.Markdown object>"
      ]
     },
     "metadata": {},
     "output_type": "display_data"
    },
    {
     "name": "stdin",
     "output_type": "stream",
     "text": [
      "\n",
      "Você:  Quem foi Miguel Cruz?\n"
     ]
    },
    {
     "data": {
      "text/markdown": [
       "**Mirobaldo:** Miguel Cruz foi uma figura significativa no desporto de Faro, particularmente conhecido por sua associação com o Sporting Clube Farense. Ele desempenhou um papel fundamental na fundação e desenvolvimento do jornal \"Sul Desportivo\", que se dedicava a cobrir eventos desportivos na região do Algarve, com um enfoque especial no futebol. \n",
       "\n",
       "Cruz também se distinguiu como um ativo promotor de várias modalidades desportivas, incluindo o boxe, ginástica e futebol. Foi um grande incentivador da prática desportiva entre os jovens e trabalhou para fomentar um espírito de desportivismo e competição saudável na comunidade.\n",
       "\n",
       "Além disso, Miguel Cruz foi um atleta e treinou várias equipas, contribuindo para o desenvolvimento técnico e táctico dos jogadores. Ele teve um impacto duradouro no desenvolvimento do desporto em Faro e foi homenageado postumamente por várias instituições e eventos desportivos que reconhecem o seu contributo para o desporto na região."
      ],
      "text/plain": [
       "<IPython.core.display.Markdown object>"
      ]
     },
     "metadata": {},
     "output_type": "display_data"
    },
    {
     "name": "stdin",
     "output_type": "stream",
     "text": [
      "\n",
      "Você:  Faz um resumo da época de 1939/40\n"
     ]
    },
    {
     "data": {
      "text/markdown": [
       "**Mirobaldo:** A época de futebol de 1939/40 foi extremamente significativa para o Sporting Clube Farense, marcando uma temporada de ouro na sua história. O clube contou com a orientação do treinador húngaro José Szabo, conhecido pelo apelido \"Mestre\", e conseguiu uma série de vitórias que culminaram com a conquista do Campeonato Nacional da 2.ª Divisão.\n",
       "\n",
       "Durante a temporada, o Farense realizou uma campanha impressionante na 2.ª Divisão, demonstrando uma superioridade evidente sobre os seus adversários. Conseguiu várias vitórias fundamentais que fortaleceram sua posição liderança, culminando com a vitória na final do campeonato contra o Boavista Futebol Clube. Este jogo memorável teve lugar em Lisboa no campo da Tapadinha e terminou com um resultado de 3-2 a favor do Farense.\n",
       "\n",
       "Os jogos desta temporada não só consolidaram o Sporting Clube Farense como uma força a ser reconhecida no futebol português, mas também trouxeram grande alegria e orgulho à cidade de Faro. A vitória no campeonato foi celebrada extensivamente pela comunidade local e simbolizou um ponto alto na história desportiva da cidade.\n",
       "\n",
       "Além do trio notável de formação da equipa – Ventura (gooleiro), José da Luz (capitão) e Catarina (principal atacante) –, o time era fortalecido por um espírito de luta e dedicação que se manifestava tanto dentro como fora de campo. A equipa técnica e os jogadores receberam amplo apoio dos fãs ao longo da temporada, o que se provou crucial nos momentos decisivos.\n",
       "\n",
       "Portanto, a época de 1939/40 foi um período dourado para o Sporting Clube Farense, repleto de conquistas, emoção e um legado duradouro na região do Algarve. A elevação da equipa à primeira divisão do campeonato nacional na temporada seguinte foi vista como um avanço merecido e uma oportunidade de continuar a mostrar o valor e o talento do futebol algarvio no palco nacional."
      ],
      "text/plain": [
       "<IPython.core.display.Markdown object>"
      ]
     },
     "metadata": {},
     "output_type": "display_data"
    },
    {
     "name": "stdin",
     "output_type": "stream",
     "text": [
      "\n",
      "Você:  Quem foi Lyster Franco?\n"
     ]
    },
    {
     "data": {
      "text/markdown": [
       "**Mirobaldo:** Lyster Franco foi uma figura notável na cidade de Faro, associado principalmente ao movimento de introdução e desenvolvimento do futebol na região a partir do início do século XX. Natural de Belém, em Lisboa, Carlos Augusto Lyster Franco deslocou-se para Faro onde assumiu o cargo de professor no Liceu Nacional de Faro. Além das suas responsabilidades educacionais, Lyster Franco teve um papel crucial no ensino e na promoção do futebol aos jovens da época, uma vez que o desporto ainda era relativamente novo e pouco conhecido em Portugal.\n",
       "\n",
       "Foi responsável por organizar e dirigir alguns dos primeiros jogos de futebol na região, utilizando o Largo da Sé como um dos primeiros campos de futebol improvisados. A sua influência estendeu-se à formação dos jovens estudantes, inculcando-lhes as regras e a paixão pelo jogo. Lyster Franco é frequentemente lembrado como um dos pioneiros do futebol em Faro e no Algarve, tendo desempenhado um papel decisivo na introdução e estabelecimento deste desporto em Portugal."
      ],
      "text/plain": [
       "<IPython.core.display.Markdown object>"
      ]
     },
     "metadata": {},
     "output_type": "display_data"
    },
    {
     "name": "stdin",
     "output_type": "stream",
     "text": [
      "\n",
      "Você:  Como foi o Farense nos anos 1920?\n"
     ]
    },
    {
     "data": {
      "text/markdown": [
       "**Mirobaldo:** Nos anos 1920, o Sporting Clube Farense teve uma trajetória marcada por desenvolvimentos significativos e desafios. Após sua fundação em 1910, o clube passou por várias fases de crescimento e consolidação.\n",
       "\n",
       "Durante os anos 1920, destacou-se principalmente na promoção de atividades desportivas locais, incluindo o futebol. O clube participou em competições regionais e desenvolveu uma rica rivalidade com outros clubes algarvios, como o Sporting Clube Olhanense e Lusitano de Vila Real de Santo António. Esta rivalidade estimulou o interesse e o desenvolvimento do futebol na região do Algarve.\n",
       "\n",
       "O Farense também foi envolvido em esforços para melhorar suas infraestruturas e capacidades organizacionais. Isto incluiu esforços para desenvolver um campo próprio para a prática desportiva, que eventualmente se tornaria o Estádio de São Luís, inaugurado anos mais tarde, na década de 1930.\n",
       "\n",
       "Além disso, o Farense começou a atrair e formar talentos locais, contribuindo para o surgimento de jogadores que mais tarde se destacariam na cena desportiva portuguesa. Durante esta década, apesar de alguns desafios financeiros e organizacionais, o Sporting Clube Farense consolidou-se como uma entidade importante no panorama desportivo do Algarve."
      ],
      "text/plain": [
       "<IPython.core.display.Markdown object>"
      ]
     },
     "metadata": {},
     "output_type": "display_data"
    },
    {
     "name": "stdin",
     "output_type": "stream",
     "text": [
      "\n",
      "Você:  Conta a história do estádio de são luís\n"
     ]
    },
    {
     "data": {
      "text/markdown": [
       "**Mirobaldo:** O Estádio de São Luís, situado na cidade de Faro, Portugal, tem uma história rica e está diretamente ligado à trajetória do Sporting Clube Farense, principal clube de futebol da cidade. A construção do estádio foi um marco importante, não só para o clube, mas também para a comunidade local, proporcionando um espaço dedicado para a prática e o desenvolvimento do futebol na região.\n",
       "\n",
       "Originalmente, o campo onde o estádio foi construído começou a ser utilizado para partidas de futebol no início do século XX, mais precisamente nos anos 20 e 30, quando o futebol começou a ganhar popularidade em Faro. Durante muitos anos, o local era conhecido apenas como campo da Pontinha, uma área aberta utilizada para jogos e eventos locais.\n",
       "\n",
       "Nos anos 60, o campo foi oficialmente transformado no Estádio de São Luís. Este desenvolvimento veio em resposta à crescente necessidade de uma infraestrutura melhor e mais adequada para acomodar o crescente número de espectadores que o futebol estava atraindo naquela época. A construção do estádio como conhecemos hoje permitiu ao Farense, que já tinha uma história rica e uma base de fãs apaixonados, estabelecer um lar permanente.\n",
       "\n",
       "Ao longo dos anos, o Estádio de São Luís foi palco de inúmeros jogos emocionantes, competições e eventos culturais, tornando-se um ponto de encontro vital para os fãs de futebol e membros da comunidade. O estádio também passou por várias renovações ao longo dos anos, melhorando suas instalações e capacidade para garantir que continuasse a atender às necessidades do clube e dos seus adeptos.\n",
       "\n",
       "Em suma, o Estádio de São Luís não é apenas um local para jogos de futebol, mas um símbolo de orgulho local e um testemunho do amor pelo futebol na região do Algarve. A história deste estádio está indissociavelmente ligada à do Sporting Clube Farense e à paixão pelo futebol na cidade de Faro."
      ],
      "text/plain": [
       "<IPython.core.display.Markdown object>"
      ]
     },
     "metadata": {},
     "output_type": "display_data"
    },
    {
     "name": "stdin",
     "output_type": "stream",
     "text": [
      "\n",
      "Você:  Santo Stadium\n"
     ]
    },
    {
     "data": {
      "text/markdown": [
       "**Mirobaldo:** O Santo Stadium, também conhecido como Estádio de São Luís, localizava-se na cidade de Faro, Algarve, e foi inaugurado em 1923. Não existem muitos detalhes específicos sobre seu uso inicial nas fontes disponíveis, mas era sabido que o local servia principalmente para eventos esportivos, incluindo futebol, que era e ainda é uma paixão significativa na região.\n",
       "\n",
       "O estádio foi construído pelo empresário Manuel Garcia Cárabe, que também esteve associado ao Sporting Clube Farense e teve um papel notável no desenvolvimento do futebol na cidade. O estádio eventualmente tornou-se uma propriedade importante para o Sporting Clube Farense, servindo como um dos palcos principais para os jogos do clube.\n",
       "\n",
       "Ao longo dos anos, o Santo Stadium passou por várias modificações e utilizações. Na década de 1980, o nome do estádio foi mudado para Estádio de São Luís, nome que mantém até hoje, e o estádio foi adquirido pela Câmara Municipal de Faro, que o cedeu ao Sporting Clube Farense.\n",
       "\n",
       "Este estádio tem sido um local emblemático para o clube e seus adeptos, testemunhando muitos dos jogos memoráveis e desempenhos históricos do Farense. Continua a ser um elemento vital na cultura esportiva de Faro, embora, como muitos estádios antigos, tenha enfrentado desafios relacionados à modernização e manutenção."
      ],
      "text/plain": [
       "<IPython.core.display.Markdown object>"
      ]
     },
     "metadata": {},
     "output_type": "display_data"
    },
    {
     "name": "stdin",
     "output_type": "stream",
     "text": [
      "\n",
      "Você:  Quem construiu o Santo Stadium\n"
     ]
    },
    {
     "data": {
      "text/markdown": [
       "**Mirobaldo:** O Santo Stadium, também conhecido como Campo de S. Luís, foi construído por Manuel Silvestre Mendonça dos Santos, um emigrante farense que fez fortuna em Nova Orleans, nos Estados Unidos. Ao regressar a Portugal, adquiriu o terreno no Espaldão de S. Luís, confinando com a Estrada da Penha e outras áreas, e iniciou a construção do estádio. O projeto foi amplamente apoiado e aclamado pela comunidade desportiva local, já que prometia elevar o nível das instalações desportivas disponíveis em Faro na época."
      ],
      "text/plain": [
       "<IPython.core.display.Markdown object>"
      ]
     },
     "metadata": {},
     "output_type": "display_data"
    },
    {
     "name": "stdin",
     "output_type": "stream",
     "text": [
      "\n",
      "Você:  Quem foi Manuel Cárabe\n"
     ]
    },
    {
     "data": {
      "text/markdown": [
       "**Mirobaldo:** Manuel Garcia Cárabe foi um empresário de grande influência, particularmente no contexto desportivo em Faro, Portugal. Ele desempenhou um papel significativo no desenvolvimento do futebol na região, tendo sido um dos principais impulsionadores do Sporting Clube Farense. Durante o seu mandato como presidente, Cárabe foi instrumental em reorganizar e fortalecer o clube, ajudando a promover a construção do Estádio São Luís, que se tornou um marco importante para o clube e para a comunidade desportiva de Faro. Além disso, Cárabe também esteve envolvido na gestão do Sporting Clube de Portugal, o que evidencia o seu profundo envolvimento no futebol português. A sua liderança e contribuições foram fundamentais para o desenvolvimento do futebol no Algarve durante o século XX."
      ],
      "text/plain": [
       "<IPython.core.display.Markdown object>"
      ]
     },
     "metadata": {},
     "output_type": "display_data"
    },
    {
     "name": "stdin",
     "output_type": "stream",
     "text": [
      "\n",
      "Você:  sair\n"
     ]
    },
    {
     "name": "stdout",
     "output_type": "stream",
     "text": [
      "Força Farense!\n"
     ]
    }
   ],
   "source": [
    "import openai\n",
    "import os\n",
    "import re\n",
    "from dotenv import load_dotenv\n",
    "from IPython.display import display, Markdown\n",
    "from tabulate import tabulate\n",
    "\n",
    "# Carregar variáveis de ambiente do arquivo .env\n",
    "load_dotenv()\n",
    "\n",
    "# Obter a chave da API da OpenAI\n",
    "openai.api_key = os.getenv('OPENAI_API_KEY')\n",
    "\n",
    "# Função para ler o conteúdo do livro\n",
    "def read_book(file_path):\n",
    "    try:\n",
    "        with open(file_path, 'r', encoding='utf-8') as file:\n",
    "            return file.read()\n",
    "    except Exception as e:\n",
    "        print(f\"Erro ao ler o arquivo {file_path}: {e}\")\n",
    "        return \"\"\n",
    "\n",
    "def get_gpt4_turbo_response(prompt, context):\n",
    "    try:\n",
    "        # Crie uma mensagem para o sistema e uma para o usuário\n",
    "        messages = [\n",
    "            {\"role\": \"system\", \"content\": \"Você é um historiador do Sporting Clube Farense e deve responder em português europeu (pt-pt).\"},\n",
    "            {\"role\": \"user\", \"content\": f\"{context}\\n\\nPergunta: {prompt}\"}\n",
    "        ]\n",
    "\n",
    "        # Chame a API do OpenAI para obter a resposta\n",
    "        response = openai.chat.completions.create(\n",
    "            model=\"gpt-4-turbo\",\n",
    "            messages=messages\n",
    "        )\n",
    "        \n",
    "        # Retorne o conteúdo da resposta\n",
    "        return response.choices[0].message.content.strip()\n",
    "    except Exception as e:\n",
    "        return f\"Ocorreu um erro: {e}\"\n",
    "\n",
    "def mirobaldo_chatbot():\n",
    "    # Carregar o conteúdo do livro\n",
    "    book_content = read_book('50_anos.txt')\n",
    "\n",
    "    # Mensagem de boas-vindas formatada em Markdown\n",
    "    message = \"\"\"\n",
    "### Olá! Sou o **Mirobaldo**, um *chatbot* do **SC Farense**. Para já sei contar histórias até 1950.  \n",
    "Ainda tenho muito que aprender sobre a maravilhosa história deste clube!  \n",
    "O que gostarias de saber?\n",
    "    \"\"\"\n",
    "    \n",
    "    display(Markdown(message))  # Exibe a mensagem formatada em Markdown\n",
    "    \n",
    "    while True:\n",
    "        question = input(\"\\nVocê: \")\n",
    "        if question.lower() in [\"sair\", \"exit\", \"quit\"]:\n",
    "            print(\"Força Farense!\")\n",
    "            break\n",
    "        \n",
    "        # Procurar a resposta e usar o GPT-4 Turbo com o contexto do livro\n",
    "        answer = get_gpt4_turbo_response(question, book_content)\n",
    "        \n",
    "        # Se a resposta do GPT-4 Turbo não for encontrada\n",
    "        if answer in [None, \"\", \"Desculpe, mas não tenho informação específica sobre os resultados dos jogos mencionados no documento.\"]:\n",
    "            answer = \"Não consegui encontrar a resposta para a sua pergunta. Pode tentar outra pergunta ou fornecer mais detalhes.\"\n",
    "\n",
    "        display(Markdown(f\"**Mirobaldo:** {answer}\"))\n",
    "\n",
    "# Executar o chatbot\n",
    "if __name__ == \"__main__\":\n",
    "    mirobaldo_chatbot()"
   ]
  }
 ],
 "metadata": {
  "kernelspec": {
   "display_name": "Python 3 (ipykernel)",
   "language": "python",
   "name": "python3"
  },
  "language_info": {
   "codemirror_mode": {
    "name": "ipython",
    "version": 3
   },
   "file_extension": ".py",
   "mimetype": "text/x-python",
   "name": "python",
   "nbconvert_exporter": "python",
   "pygments_lexer": "ipython3",
   "version": "3.12.2"
  }
 },
 "nbformat": 4,
 "nbformat_minor": 5
}
